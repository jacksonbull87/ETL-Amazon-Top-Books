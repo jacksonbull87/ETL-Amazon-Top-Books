{
 "cells": [
  {
   "cell_type": "markdown",
   "metadata": {},
   "source": [
    "## Pre-Transformed Data\n"
   ]
  },
  {
   "cell_type": "code",
   "execution_count": 46,
   "metadata": {},
   "outputs": [],
   "source": [
    "import pandas as pd\n",
    "import re"
   ]
  },
  {
   "cell_type": "code",
   "execution_count": 47,
   "metadata": {},
   "outputs": [],
   "source": [
    "df = pd.read_csv('data_collection/test', index_col=0)"
   ]
  },
  {
   "cell_type": "code",
   "execution_count": 21,
   "metadata": {},
   "outputs": [
    {
     "data": {
      "text/html": [
       "<div>\n",
       "<style scoped>\n",
       "    .dataframe tbody tr th:only-of-type {\n",
       "        vertical-align: middle;\n",
       "    }\n",
       "\n",
       "    .dataframe tbody tr th {\n",
       "        vertical-align: top;\n",
       "    }\n",
       "\n",
       "    .dataframe thead th {\n",
       "        text-align: right;\n",
       "    }\n",
       "</style>\n",
       "<table border=\"1\" class=\"dataframe\">\n",
       "  <thead>\n",
       "    <tr style=\"text-align: right;\">\n",
       "      <th></th>\n",
       "      <th>rank</th>\n",
       "      <th>title</th>\n",
       "      <th>author</th>\n",
       "      <th>rating</th>\n",
       "      <th>cover</th>\n",
       "      <th>num_pages</th>\n",
       "      <th>publisher</th>\n",
       "    </tr>\n",
       "  </thead>\n",
       "  <tbody>\n",
       "    <tr>\n",
       "      <td>0</td>\n",
       "      <td>#1</td>\n",
       "      <td>Too Much and Never Enough: How My Family Creat...</td>\n",
       "      <td>Mary L. Trump Ph.D.</td>\n",
       "      <td>None</td>\n",
       "      <td>Hardcover:</td>\n",
       "      <td>Hardcover: 240 pages</td>\n",
       "      <td>Publisher: Simon &amp; Schuster; 1 edition (July 2...</td>\n",
       "    </tr>\n",
       "    <tr>\n",
       "      <td>1</td>\n",
       "      <td>#2</td>\n",
       "      <td>The Room Where It Happened: A White House Memoir</td>\n",
       "      <td>John Bolton</td>\n",
       "      <td>3.2 out of 5 stars</td>\n",
       "      <td>Hardcover:</td>\n",
       "      <td>Hardcover: 592 pages</td>\n",
       "      <td>Publisher: Simon &amp; Schuster (June 23, 2020)</td>\n",
       "    </tr>\n",
       "    <tr>\n",
       "      <td>2</td>\n",
       "      <td>#3</td>\n",
       "      <td>White Fragility: Why It's So Hard for White Pe...</td>\n",
       "      <td>Robin DiAngelo</td>\n",
       "      <td>4.2 out of 5 stars</td>\n",
       "      <td>Paperback:</td>\n",
       "      <td>Paperback: 192 pages</td>\n",
       "      <td>Publisher: Beacon Press; Reprint edition (June...</td>\n",
       "    </tr>\n",
       "    <tr>\n",
       "      <td>3</td>\n",
       "      <td>#4</td>\n",
       "      <td>How to Be an Antiracist</td>\n",
       "      <td>Ibram X. Kendi</td>\n",
       "      <td>4.7 out of 5 stars</td>\n",
       "      <td>Hardcover:</td>\n",
       "      <td>Hardcover: 320 pages</td>\n",
       "      <td>Publisher: One World; First Edition edition (A...</td>\n",
       "    </tr>\n",
       "    <tr>\n",
       "      <td>4</td>\n",
       "      <td>#5</td>\n",
       "      <td>Stamped from the Beginning: The Definitive His...</td>\n",
       "      <td>Ibram X. Kendi</td>\n",
       "      <td>4.8 out of 5 stars</td>\n",
       "      <td>Paperback:</td>\n",
       "      <td>Paperback: 608 pages</td>\n",
       "      <td>Publisher: Bold Type Books; Reprint edition (A...</td>\n",
       "    </tr>\n",
       "  </tbody>\n",
       "</table>\n",
       "</div>"
      ],
      "text/plain": [
       "  rank                                              title  \\\n",
       "0   #1  Too Much and Never Enough: How My Family Creat...   \n",
       "1   #2   The Room Where It Happened: A White House Memoir   \n",
       "2   #3  White Fragility: Why It's So Hard for White Pe...   \n",
       "3   #4                            How to Be an Antiracist   \n",
       "4   #5  Stamped from the Beginning: The Definitive His...   \n",
       "\n",
       "                author              rating       cover             num_pages  \\\n",
       "0  Mary L. Trump Ph.D.                None  Hardcover:  Hardcover: 240 pages   \n",
       "1          John Bolton  3.2 out of 5 stars  Hardcover:  Hardcover: 592 pages   \n",
       "2       Robin DiAngelo  4.2 out of 5 stars  Paperback:  Paperback: 192 pages   \n",
       "3       Ibram X. Kendi  4.7 out of 5 stars  Hardcover:  Hardcover: 320 pages   \n",
       "4       Ibram X. Kendi  4.8 out of 5 stars  Paperback:  Paperback: 608 pages   \n",
       "\n",
       "                                           publisher  \n",
       "0  Publisher: Simon & Schuster; 1 edition (July 2...  \n",
       "1        Publisher: Simon & Schuster (June 23, 2020)  \n",
       "2  Publisher: Beacon Press; Reprint edition (June...  \n",
       "3  Publisher: One World; First Edition edition (A...  \n",
       "4  Publisher: Bold Type Books; Reprint edition (A...  "
      ]
     },
     "execution_count": 21,
     "metadata": {},
     "output_type": "execute_result"
    }
   ],
   "source": [
    "df.head()"
   ]
  },
  {
   "cell_type": "code",
   "execution_count": 4,
   "metadata": {},
   "outputs": [
    {
     "data": {
      "text/plain": [
       "0                   None\n",
       "1     3.2 out of 5 stars\n",
       "2     4.2 out of 5 stars\n",
       "3     4.7 out of 5 stars\n",
       "4     4.8 out of 5 stars\n",
       "             ...        \n",
       "95    4.4 out of 5 stars\n",
       "96    4.6 out of 5 stars\n",
       "97    4.4 out of 5 stars\n",
       "98    4.7 out of 5 stars\n",
       "99    4.7 out of 5 stars\n",
       "Name: rating, Length: 100, dtype: object"
      ]
     },
     "execution_count": 4,
     "metadata": {},
     "output_type": "execute_result"
    }
   ],
   "source": [
    "df.rating"
   ]
  },
  {
   "cell_type": "markdown",
   "metadata": {},
   "source": [
    "## Rating"
   ]
  },
  {
   "cell_type": "code",
   "execution_count": 14,
   "metadata": {},
   "outputs": [
    {
     "data": {
      "text/plain": [
       "0                   None\n",
       "1     3.2 out of 5 stars\n",
       "2     4.2 out of 5 stars\n",
       "3     4.7 out of 5 stars\n",
       "4     4.8 out of 5 stars\n",
       "             ...        \n",
       "95    4.4 out of 5 stars\n",
       "96    4.6 out of 5 stars\n",
       "97    4.4 out of 5 stars\n",
       "98    4.7 out of 5 stars\n",
       "99    4.7 out of 5 stars\n",
       "Name: rating, Length: 100, dtype: object"
      ]
     },
     "execution_count": 14,
     "metadata": {},
     "output_type": "execute_result"
    }
   ],
   "source": [
    "df.rating"
   ]
  },
  {
   "cell_type": "code",
   "execution_count": 22,
   "metadata": {},
   "outputs": [
    {
     "data": {
      "text/plain": [
       "0     0.0\n",
       "1     3.2\n",
       "2     4.2\n",
       "3     4.7\n",
       "4     4.8\n",
       "     ... \n",
       "95    4.4\n",
       "96    4.6\n",
       "97    4.4\n",
       "98    4.7\n",
       "99    4.7\n",
       "Name: rating, Length: 100, dtype: float64"
      ]
     },
     "execution_count": 22,
     "metadata": {},
     "output_type": "execute_result"
    }
   ],
   "source": [
    "#create a function that converts the rating from a string object to a float.\n",
    "\n",
    "def convert_rating(x):\n",
    "    if x == 'None':\n",
    "        return 0\n",
    "    else:\n",
    "        return float(x[0:3])\n",
    "    \n",
    "df['rating'].apply(lambda x: convert_rating(x))"
   ]
  },
  {
   "cell_type": "markdown",
   "metadata": {},
   "source": [
    "## Cover"
   ]
  },
  {
   "cell_type": "code",
   "execution_count": 18,
   "metadata": {},
   "outputs": [
    {
     "data": {
      "text/plain": [
       "0                 Hardcover:\n",
       "1                 Hardcover:\n",
       "2                 Paperback:\n",
       "3                 Hardcover:\n",
       "4                 Paperback:\n",
       "               ...          \n",
       "95    Mass Market Paperback:\n",
       "96                Paperback:\n",
       "97                Hardcover:\n",
       "98                Paperback:\n",
       "99                Hardcover:\n",
       "Name: cover, Length: 100, dtype: object"
      ]
     },
     "execution_count": 18,
     "metadata": {},
     "output_type": "execute_result"
    }
   ],
   "source": [
    "df.cover"
   ]
  },
  {
   "cell_type": "code",
   "execution_count": 48,
   "metadata": {},
   "outputs": [],
   "source": [
    "#lets create a function that converts all this data to a simple boolean value. 1 if its a hardcover. 0 if its not\n",
    "import re\n",
    "\n",
    "def convert_cover_data(cover):\n",
    "    lower_co = cover.lower()\n",
    "    if re.match('hardcover', lower_co):\n",
    "        return int(1)\n",
    "    elif re.match('paperback', lower_co):\n",
    "        return int(0)\n"
   ]
  },
  {
   "cell_type": "code",
   "execution_count": 49,
   "metadata": {},
   "outputs": [
    {
     "data": {
      "text/plain": [
       "0     1.0\n",
       "1     1.0\n",
       "2     0.0\n",
       "3     1.0\n",
       "4     0.0\n",
       "     ... \n",
       "95    NaN\n",
       "96    0.0\n",
       "97    1.0\n",
       "98    0.0\n",
       "99    1.0\n",
       "Name: cover, Length: 100, dtype: float64"
      ]
     },
     "execution_count": 49,
     "metadata": {},
     "output_type": "execute_result"
    }
   ],
   "source": [
    "df.cover.apply(lambda x: convert_cover_data(x))"
   ]
  },
  {
   "cell_type": "code",
   "execution_count": 43,
   "metadata": {},
   "outputs": [
    {
     "data": {
      "text/plain": [
       "numpy.float64"
      ]
     },
     "execution_count": 43,
     "metadata": {},
     "output_type": "execute_result"
    }
   ],
   "source": []
  },
  {
   "cell_type": "code",
   "execution_count": 44,
   "metadata": {},
   "outputs": [
    {
     "data": {
      "text/plain": [
       "1.0"
      ]
     },
     "execution_count": 44,
     "metadata": {},
     "output_type": "execute_result"
    }
   ],
   "source": [
    "df['cover'][0]"
   ]
  },
  {
   "cell_type": "markdown",
   "metadata": {},
   "source": [
    "## num_pages"
   ]
  },
  {
   "cell_type": "code",
   "execution_count": 6,
   "metadata": {},
   "outputs": [
    {
     "data": {
      "text/plain": [
       "0                 Hardcover: 240 pages\n",
       "1                 Hardcover: 592 pages\n",
       "2                 Paperback: 192 pages\n",
       "3                 Hardcover: 320 pages\n",
       "4                 Paperback: 608 pages\n",
       "                    ...               \n",
       "95    Mass Market Paperback: 224 pages\n",
       "96                Paperback: 352 pages\n",
       "97                Hardcover: 256 pages\n",
       "98                Paperback: 428 pages\n",
       "99                Hardcover: 448 pages\n",
       "Name: num_pages, Length: 100, dtype: object"
      ]
     },
     "execution_count": 6,
     "metadata": {},
     "output_type": "execute_result"
    }
   ],
   "source": [
    "#create a function that converts the values in this columns to an integer\n",
    "\n",
    "df.num_pages"
   ]
  },
  {
   "cell_type": "code",
   "execution_count": 51,
   "metadata": {},
   "outputs": [],
   "source": [
    "import re\n",
    "\n",
    "def convert_num_page_to_int(num_page):\n",
    "    num = re.findall(\"\\d+\", num_page)\n",
    "    if len(num) > 0:\n",
    "        return int(num[0])\n",
    "    else:\n",
    "        return 'NaN'\n",
    "\n",
    " \n",
    "df['num_pages'].apply(lambda x: convert_num_page_to_int(x))"
   ]
  },
  {
   "cell_type": "code",
   "execution_count": 54,
   "metadata": {},
   "outputs": [
    {
     "data": {
      "text/plain": [
       "0     240\n",
       "1     592\n",
       "2     192\n",
       "3     320\n",
       "4     608\n",
       "     ... \n",
       "95    224\n",
       "96    352\n",
       "97    256\n",
       "98    428\n",
       "99    448\n",
       "Name: num_pages, Length: 100, dtype: object"
      ]
     },
     "execution_count": 54,
     "metadata": {},
     "output_type": "execute_result"
    }
   ],
   "source": [
    "df['num_pages']"
   ]
  },
  {
   "cell_type": "markdown",
   "metadata": {},
   "source": [
    "## publisher info\n"
   ]
  },
  {
   "cell_type": "code",
   "execution_count": 4,
   "metadata": {},
   "outputs": [
    {
     "data": {
      "text/plain": [
       "0     Publisher: Simon & Schuster; 1 edition (July 2...\n",
       "1           Publisher: Simon & Schuster (June 23, 2020)\n",
       "2     Publisher: Beacon Press; Reprint edition (June...\n",
       "3     Publisher: One World; First Edition edition (A...\n",
       "4     Publisher: Bold Type Books; Reprint edition (A...\n",
       "                            ...                        \n",
       "95    Publisher: Penguin Books; Reissue edition (Dec...\n",
       "96     Publisher: Lake Union Publishing (July 16, 2019)\n",
       "97    Publisher: Sourcebooks; 1 edition (January 28,...\n",
       "98    Publisher: American Psychological Association;...\n",
       "99    Publisher: Little, Brown and Company (June 8, ...\n",
       "Name: publisher, Length: 100, dtype: object"
      ]
     },
     "execution_count": 4,
     "metadata": {},
     "output_type": "execute_result"
    }
   ],
   "source": [
    "#create a function that cleans up the publisher column\n",
    "\n",
    "df.publisher"
   ]
  },
  {
   "cell_type": "code",
   "execution_count": null,
   "metadata": {},
   "outputs": [],
   "source": [
    "def convert_publisher(publisher):\n",
    "    lower_case = publisher.lower()\n",
    "    if re.match(\"publish:\", publisher):\n",
    "        "
   ]
  }
 ],
 "metadata": {
  "kernelspec": {
   "display_name": "Python 3",
   "language": "python",
   "name": "python3"
  },
  "language_info": {
   "codemirror_mode": {
    "name": "ipython",
    "version": 3
   },
   "file_extension": ".py",
   "mimetype": "text/x-python",
   "name": "python",
   "nbconvert_exporter": "python",
   "pygments_lexer": "ipython3",
   "version": "3.7.4"
  },
  "toc": {
   "base_numbering": 1,
   "nav_menu": {},
   "number_sections": true,
   "sideBar": true,
   "skip_h1_title": false,
   "title_cell": "Table of Contents",
   "title_sidebar": "Contents",
   "toc_cell": false,
   "toc_position": {},
   "toc_section_display": true,
   "toc_window_display": true
  }
 },
 "nbformat": 4,
 "nbformat_minor": 2
}
